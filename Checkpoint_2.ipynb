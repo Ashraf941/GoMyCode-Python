{
  "nbformat": 4,
  "nbformat_minor": 0,
  "metadata": {
    "colab": {
      "name": "Checkpoint #2.ipynb",
      "provenance": []
    },
    "kernelspec": {
      "name": "python3",
      "display_name": "Python 3"
    },
    "language_info": {
      "name": "python"
    }
  },
  "cells": [
    {
      "cell_type": "code",
      "execution_count": 1,
      "metadata": {
        "colab": {
          "base_uri": "https://localhost:8080/"
        },
        "id": "gN061oVsPZpN",
        "outputId": "e8fb28f5-370e-4ac5-bdde-18a0c5e13406"
      },
      "outputs": [
        {
          "output_type": "stream",
          "name": "stdout",
          "text": [
            "Enter your First Name: Mohamed\n",
            "Enter your Last Name: Ashraf\n",
            "Ashraf Mohamed\n"
          ]
        }
      ],
      "source": [
        "#Question 1\n",
        "first_name=input(\"Enter your First Name: \")\n",
        "last_name=input(\"Enter your Last Name: \")\n",
        "full_name=(last_name +' '+first_name)\n",
        "print(full_name)"
      ]
    },
    {
      "cell_type": "code",
      "source": [
        "#Question 2\n",
        "n= input(\"Enter Value for n=\")\n",
        "answer= int(n)+int(n+n)+int(n+n+n)\n",
        "print(answer)"
      ],
      "metadata": {
        "colab": {
          "base_uri": "https://localhost:8080/"
        },
        "id": "74d8Fp5ePmP8",
        "outputId": "31aaf745-f71f-45f8-efb4-e3b68d58ec61"
      },
      "execution_count": 4,
      "outputs": [
        {
          "output_type": "stream",
          "name": "stdout",
          "text": [
            "Enter Value for n=5\n",
            "615\n"
          ]
        }
      ]
    },
    {
      "cell_type": "code",
      "source": [
        "#Question 3\n",
        "n=int(input(\"Enter Value of n= \"))\n",
        "if n%2 == 0:\n",
        "  print (True)\n",
        "else:\n",
        "  print (False)\n",
        "\n"
      ],
      "metadata": {
        "colab": {
          "base_uri": "https://localhost:8080/"
        },
        "id": "3mSIbH2JP3Dp",
        "outputId": "de410853-030e-41d9-afa6-46f32d220af9"
      },
      "execution_count": 9,
      "outputs": [
        {
          "output_type": "stream",
          "name": "stdout",
          "text": [
            "Enter Value of n= 5\n",
            "False\n"
          ]
        }
      ]
    },
    {
      "cell_type": "code",
      "source": [
        "#Question 4\n",
        "for i in range(2000,3201):\n",
        "  if i%7 == 0 and i%5 != 0:\n",
        "    print(i, end=\" \")"
      ],
      "metadata": {
        "colab": {
          "base_uri": "https://localhost:8080/"
        },
        "id": "UhbIWpEpRuD3",
        "outputId": "186e1bb0-2b98-43de-b22a-7c3b3935317d"
      },
      "execution_count": 24,
      "outputs": [
        {
          "output_type": "stream",
          "name": "stdout",
          "text": [
            "2002 2009 2016 2023 2037 2044 2051 2058 2072 2079 2086 2093 2107 2114 2121 2128 2142 2149 2156 2163 2177 2184 2191 2198 2212 2219 2226 2233 2247 2254 2261 2268 2282 2289 2296 2303 2317 2324 2331 2338 2352 2359 2366 2373 2387 2394 2401 2408 2422 2429 2436 2443 2457 2464 2471 2478 2492 2499 2506 2513 2527 2534 2541 2548 2562 2569 2576 2583 2597 2604 2611 2618 2632 2639 2646 2653 2667 2674 2681 2688 2702 2709 2716 2723 2737 2744 2751 2758 2772 2779 2786 2793 2807 2814 2821 2828 2842 2849 2856 2863 2877 2884 2891 2898 2912 2919 2926 2933 2947 2954 2961 2968 2982 2989 2996 3003 3017 3024 3031 3038 3052 3059 3066 3073 3087 3094 3101 3108 3122 3129 3136 3143 3157 3164 3171 3178 3192 3199 "
          ]
        }
      ]
    },
    {
      "cell_type": "code",
      "source": [
        "#Question 5\n",
        "\n",
        "n= int(input(\"Enter Value of n= \"))\n",
        "f=1 #assigning the factorial value\n",
        "if n == 0: # 0! is 1\n",
        "  print(1)\n",
        "else:\n",
        "  for i in range(1,n+1): #adding 1 to n as the outer boundary is exlusive\n",
        "    f = f*i # multiplying the factorials by \n",
        "print(f)\n",
        "  \n"
      ],
      "metadata": {
        "colab": {
          "base_uri": "https://localhost:8080/"
        },
        "id": "82ZvYL2GUQRY",
        "outputId": "356a43e7-7dea-4335-906f-8281e51aeea2"
      },
      "execution_count": 31,
      "outputs": [
        {
          "output_type": "stream",
          "name": "stdout",
          "text": [
            "Enter Value of n= 8\n",
            "40320\n"
          ]
        }
      ]
    },
    {
      "cell_type": "code",
      "source": [
        "#Question 6\n",
        "\n",
        "line= input(\"Enter your line here:\")\n",
        "\n",
        "for i in range(0,(len(line))): #range between 0 and the number of characters\n",
        "  if i%2 == 0: #Keeping the even number characters\n",
        "    print(line[i], end=\"\")\n"
      ],
      "metadata": {
        "colab": {
          "base_uri": "https://localhost:8080/"
        },
        "id": "XnkFJ6w3doAF",
        "outputId": "4c5b69e1-3ea4-41ad-93af-7376b50874cf"
      },
      "execution_count": 63,
      "outputs": [
        {
          "output_type": "stream",
          "name": "stdout",
          "text": [
            "Enter your line here:hello team\n",
            "hlota"
          ]
        }
      ]
    },
    {
      "cell_type": "code",
      "source": [
        "p=int(input(\"Enter Price: \"))\n",
        "if p >= 500:\n",
        "  d = 0.5*p #discount\n",
        "  np= 0.5*p #new price\n",
        "  print(\"Your discount is \" + str(d))\n",
        "  print(\"Your new price is \" + str(np))\n",
        "elif 200<= p <500:\n",
        "  d= 0.3*p\n",
        "  np= 0.7*p\n",
        "  print(\"Your discount is \" + str(d))\n",
        "  print(\"Your new price is \" + str(np))\n",
        "else:\n",
        "  d= 0.1*p\n",
        "  np= 0.9*p\n",
        "  print(\"Your discount is \" + str(d))\n",
        "  print(\"Your new price is \" + str(np))"
      ],
      "metadata": {
        "colab": {
          "base_uri": "https://localhost:8080/"
        },
        "id": "axM0sZ2lulHK",
        "outputId": "c53c6912-e493-4a07-ff55-aa111252be86"
      },
      "execution_count": 58,
      "outputs": [
        {
          "output_type": "stream",
          "name": "stdout",
          "text": [
            "Enter Price: 500\n",
            "Your discount is 250.0\n",
            "Your new price is 250.0\n"
          ]
        }
      ]
    }
  ]
}