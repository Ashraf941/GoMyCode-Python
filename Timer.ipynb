{
 "cells": [
  {
   "cell_type": "code",
   "execution_count": 8,
   "metadata": {},
   "outputs": [
    {
     "name": "stdout",
     "output_type": "stream",
     "text": [
      "Fire in the hole\n"
     ]
    }
   ],
   "source": [
    "import time\n",
    "\n",
    "t=input(\"Enter the length of your countdown in seconds: \")\n",
    "\n",
    "def countdown(s):\n",
    "    s=int(s)\n",
    "    i=s\n",
    "    while i >= 0:\n",
    "        minutes,seconds=divmod(i,60)\n",
    "        # timeformat=f\"{minutes} : {seconds}\"\n",
    "        timeformat=\"{:02}:{:02}\".format(int(minutes),int(seconds))\n",
    "        print(timeformat,end=\"\\r\")\n",
    "        time.sleep(1)\n",
    "        i-=1\n",
    "    print(\"Fire in the hole\")\n",
    "\n",
    "countdown(t)\n"
   ]
  }
 ],
 "metadata": {
  "kernelspec": {
   "display_name": "Python 3.9.10 ('base')",
   "language": "python",
   "name": "python3"
  },
  "language_info": {
   "codemirror_mode": {
    "name": "ipython",
    "version": 3
   },
   "file_extension": ".py",
   "mimetype": "text/x-python",
   "name": "python",
   "nbconvert_exporter": "python",
   "pygments_lexer": "ipython3",
   "version": "3.9.10"
  },
  "orig_nbformat": 4,
  "vscode": {
   "interpreter": {
    "hash": "0e53ef6c850edadf11a8d34c0eb6b3896ebc30c09e2b2fb37777b2d87277b5e3"
   }
  }
 },
 "nbformat": 4,
 "nbformat_minor": 2
}
