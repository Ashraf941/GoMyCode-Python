{
 "cells": [
  {
   "cell_type": "code",
   "execution_count": 3,
   "metadata": {},
   "outputs": [
    {
     "name": "stdout",
     "output_type": "stream",
     "text": [
      "False\n",
      "(True, 3)\n"
     ]
    }
   ],
   "source": [
    "#Question #1\n",
    "\n",
    "def binary_search(sequence,item):\n",
    "    begin=0\n",
    "    end=len(sequence)-1\n",
    "    \n",
    "    while begin<=end:\n",
    "        mid=begin+(end-begin)//2\n",
    "        midvalue=sequence[mid]\n",
    "        if midvalue==item:\n",
    "            return True,mid\n",
    "        elif midvalue<item:\n",
    "            begin=mid+1\n",
    "        else:\n",
    "            end=mid-1\n",
    "    return False\n",
    "print(binary_search([1,2,3,5,8],6))\n",
    "print(binary_search([1,2,3,5,8],5))"
   ]
  },
  {
   "cell_type": "code",
   "execution_count": 5,
   "metadata": {},
   "outputs": [
    {
     "name": "stdout",
     "output_type": "stream",
     "text": [
      "81\n"
     ]
    }
   ],
   "source": [
    "#Question #2\n",
    "def power(a,b):\n",
    "    if b==0:\n",
    "        return 1\n",
    "    else:\n",
    "        return (a*power(a,b-1))\n",
    "print(power(3,4))"
   ]
  },
  {
   "cell_type": "code",
   "execution_count": 7,
   "metadata": {},
   "outputs": [
    {
     "name": "stdout",
     "output_type": "stream",
     "text": [
      "[13, 22, 29, 37, 46, 49, 52, 56, 71]\n"
     ]
    }
   ],
   "source": [
    "#Question #3\n",
    "\n",
    "l=[29,13,22,37,52,49,46,71,56]\n",
    "\n",
    "def bubble_sort(li):\n",
    "    sorted = False\n",
    "    while not sorted:\n",
    "        sorted =True\n",
    "        for i in range(len(li)-1):\n",
    "            if li[i]>li[i+1]:\n",
    "                sorted = False\n",
    "                li[i],li[i+1]=li[i+1],li[i]\n",
    "    return li\n",
    "print(bubble_sort(l))\n"
   ]
  },
  {
   "cell_type": "code",
   "execution_count": 16,
   "metadata": {},
   "outputs": [
    {
     "name": "stdout",
     "output_type": "stream",
     "text": [
      "[13, 22, 29, 37, 46, 49, 52, 56, 71]\n"
     ]
    }
   ],
   "source": [
    "#Question #4\n",
    "l=[29,13,22,37,52,49,46,71,56]\n",
    "\n",
    "def merge_sort(li):\n",
    "    if len(li)>1:\n",
    "        mid=len(li)//2\n",
    "        left=li[:mid]\n",
    "        right=li[mid:]\n",
    "        merge_sort(left)\n",
    "        merge_sort(right)\n",
    "        i,j,k=0,0,0\n",
    "        while i < len(left)and j<len(right):\n",
    "            if left[i]<right[j]:\n",
    "                li[k]=left[i]\n",
    "                i+=1\n",
    "            else:\n",
    "                li[k]=right[j]\n",
    "                j+=1\n",
    "            k+=1\n",
    "        while i<len(left):\n",
    "            li[k]=left[i]\n",
    "            i+=1\n",
    "            k+=1\n",
    "        while j<len(right):\n",
    "            li[k]=right[j]\n",
    "            j+=1\n",
    "            k+=1\n",
    "    return li\n",
    "print(merge_sort(l))\n"
   ]
  },
  {
   "cell_type": "code",
   "execution_count": 18,
   "metadata": {},
   "outputs": [
    {
     "name": "stdout",
     "output_type": "stream",
     "text": [
      "[13, 22, 29, 37, 46, 49, 52, 56, 71]\n"
     ]
    }
   ],
   "source": [
    "#Question #5\n",
    "l=[29,13,22,37,52,49,46,71,56]\n",
    "\n",
    "def quick_sort(li):\n",
    "    if len(li)<=1:\n",
    "        return li\n",
    "    else:\n",
    "        pivot=li.pop()\n",
    "    greater=[]\n",
    "    lower=[]\n",
    "    for value in li:\n",
    "        if value<pivot:\n",
    "            lower.append(value)\n",
    "        else:\n",
    "            greater.append(value)\n",
    "    return quick_sort(lower) + [pivot] + quick_sort(greater)\n",
    "print(quick_sort(l))"
   ]
  }
 ],
 "metadata": {
  "kernelspec": {
   "display_name": "Python 3.9.10 ('base')",
   "language": "python",
   "name": "python3"
  },
  "language_info": {
   "codemirror_mode": {
    "name": "ipython",
    "version": 3
   },
   "file_extension": ".py",
   "mimetype": "text/x-python",
   "name": "python",
   "nbconvert_exporter": "python",
   "pygments_lexer": "ipython3",
   "version": "3.9.10"
  },
  "orig_nbformat": 4,
  "vscode": {
   "interpreter": {
    "hash": "0e53ef6c850edadf11a8d34c0eb6b3896ebc30c09e2b2fb37777b2d87277b5e3"
   }
  }
 },
 "nbformat": 4,
 "nbformat_minor": 2
}
