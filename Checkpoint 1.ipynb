{
  "nbformat": 4,
  "nbformat_minor": 0,
  "metadata": {
    "colab": {
      "name": "Untitled0.ipynb",
      "provenance": []
    },
    "kernelspec": {
      "name": "python3",
      "display_name": "Python 3"
    },
    "language_info": {
      "name": "python"
    }
  },
  "cells": [
    {
      "cell_type": "code",
      "execution_count": 1,
      "metadata": {
        "colab": {
          "base_uri": "https://localhost:8080/"
        },
        "id": "JXkOQclRn3ua",
        "outputId": "7c90fbfc-1ea4-4eb1-bd17-0b0317c155ae"
      },
      "outputs": [
        {
          "output_type": "stream",
          "name": "stdout",
          "text": [
            "Welcome to Python World! Let's start coding\n"
          ]
        }
      ],
      "source": [
        "print(\"Welcome to Python World! Let's start coding\")"
      ]
    }
  ]
}