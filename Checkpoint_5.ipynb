{
 "cells": [
  {
   "cell_type": "code",
   "execution_count": 4,
   "metadata": {},
   "outputs": [
    {
     "name": "stdout",
     "output_type": "stream",
     "text": [
      "(1, 2, 3)\n"
     ]
    }
   ],
   "source": [
    "#Quesiton #1\n",
    "\n",
    "class Point3D:\n",
    "    def __init__(self,x,y,z):\n",
    "        self.x=x\n",
    "        self.y=y\n",
    "        self.z=z\n",
    "    def get_xyz(self):\n",
    "        return (self.x,self.y,self.z)\n",
    "my_point=Point3D(1,2,3)\n",
    "print(my_point.get_xyz())"
   ]
  },
  {
   "cell_type": "code",
   "execution_count": 19,
   "metadata": {},
   "outputs": [
    {
     "name": "stdout",
     "output_type": "stream",
     "text": [
      "Area= 12\n",
      "Perimeter= 14\n"
     ]
    }
   ],
   "source": [
    "#Question #2\n",
    "\n",
    "class Rectangle:\n",
    "    def __init__(self,length,width):\n",
    "        self.l=length\n",
    "        self.w=width\n",
    "    def area(self):\n",
    "        return self.l * self.w\n",
    "    def per(self):\n",
    "        return 2*(self.l+self.w)\n",
    "\n",
    "my_rectangle=Rectangle(3,4)\n",
    "print(f\"Area= {my_rectangle.area()}\")\n",
    "print(f\"Perimeter= {my_rectangle.per()}\")\n"
   ]
  },
  {
   "cell_type": "code",
   "execution_count": 20,
   "metadata": {},
   "outputs": [
    {
     "name": "stdout",
     "output_type": "stream",
     "text": [
      "Perimeter= 31.41592653589793\n",
      "Area= 78.53981633974483\n",
      "Outside\n",
      "Inside\n"
     ]
    }
   ],
   "source": [
    "#Question #3\n",
    "\n",
    "import math\n",
    "class Circle:\n",
    "    def __init__(self,center,radius):\n",
    "        self.O=center\n",
    "        self.r=radius\n",
    "    def per(self):\n",
    "        return 2*math.pi*self.r\n",
    "    def area(self):\n",
    "        return math.pi*((self.r)**2)\n",
    "    def inside(self,x,y):\n",
    "        if ((x**2)+(y**2))**0.5 > self.r:\n",
    "            print(\"Outside\")\n",
    "        else:\n",
    "            print(\"Inside\")\n",
    "my_circle=Circle(0,5)\n",
    "print(f\"Perimeter= {my_circle.per()}\")\n",
    "print(f\"Area= {my_circle.area()}\")\n",
    "my_circle.inside(3,5)\n",
    "my_circle.inside(3,4)\n",
    "\n"
   ]
  },
  {
   "cell_type": "code",
   "execution_count": 21,
   "metadata": {},
   "outputs": [
    {
     "name": "stdout",
     "output_type": "stream",
     "text": [
      "Balance= 100\n",
      "Balance= 150\n",
      "Balance= 50\n"
     ]
    }
   ],
   "source": [
    "#Question #4\n",
    "\n",
    "class Bank:\n",
    "    def __init__(self,balance):\n",
    "        self.b=balance\n",
    "    def get_balance(self):\n",
    "        return self.b\n",
    "    def deposit(self,deposit):\n",
    "         self.b += deposit\n",
    "         return self.b\n",
    "    def withdrawal(self,withdraw):\n",
    "        self.b -= withdraw\n",
    "        return self.b\n",
    "ashraf_bank= Bank(100)\n",
    "print(f\"Balance= {ashraf_bank.get_balance()}\")\n",
    "print(f\"Balance= {ashraf_bank.deposit(50)}\")\n",
    "print(f\"Balance= {ashraf_bank.withdrawal(100)}\")\n"
   ]
  }
 ],
 "metadata": {
  "kernelspec": {
   "display_name": "Python 3.9.10 ('base')",
   "language": "python",
   "name": "python3"
  },
  "language_info": {
   "codemirror_mode": {
    "name": "ipython",
    "version": 3
   },
   "file_extension": ".py",
   "mimetype": "text/x-python",
   "name": "python",
   "nbconvert_exporter": "python",
   "pygments_lexer": "ipython3",
   "version": "3.9.10"
  },
  "orig_nbformat": 4,
  "vscode": {
   "interpreter": {
    "hash": "0e53ef6c850edadf11a8d34c0eb6b3896ebc30c09e2b2fb37777b2d87277b5e3"
   }
  }
 },
 "nbformat": 4,
 "nbformat_minor": 2
}
