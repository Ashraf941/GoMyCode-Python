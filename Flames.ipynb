{
 "cells": [
  {
   "cell_type": "code",
   "execution_count": 7,
   "metadata": {},
   "outputs": [
    {
     "name": "stdout",
     "output_type": "stream",
     "text": [
      "Christiano and Georgina are Affectionates\n"
     ]
    }
   ],
   "source": [
    "first_name=input(\"Enter first name: \")\n",
    "second_name=input(\"Enter second name: \")\n",
    "\n",
    "def flames(f,s):\n",
    "    name1=f\n",
    "    name2=s\n",
    "    f.replace(\" \",\"\")\n",
    "    s.replace(\" \",\"\")\n",
    "    f,s=f.lower(),s.lower()\n",
    "    l=[\"Friends\",\"Lovers\",\"Affectionates\",\"Married\",\"Enemies\",\"Siblings\"]\n",
    "    right,left=[],[]\n",
    "    if len(f)>len(s):\n",
    "        for letter in f:\n",
    "            if letter in s:\n",
    "                f=f.replace(letter,\"\",1)\n",
    "                s=s.replace(letter,\"\",1)\n",
    "    else:\n",
    "        for letter in s:\n",
    "            if letter in f:\n",
    "                f=f.replace(letter,\"\",1)\n",
    "                s=s.replace(letter,\"\",1)\n",
    "    length=len(s)+len(f)\n",
    "    if length == 0:\n",
    "        print(\"It's the same name, weird...\")\n",
    "    else:\n",
    "        j=0\n",
    "        while len(l)>1 and j<10:\n",
    "            i=(length%len(l))-1\n",
    "            if i+1>0:\n",
    "                right=l[i+1:]\n",
    "                left=l[:i]\n",
    "                l=right+left\n",
    "            else:\n",
    "                left=l[:i]\n",
    "                l=left\n",
    "        status=str(l[0])\n",
    "        print(f\"{name1} and {name2} are {status}\")\n",
    "\n",
    "\n",
    "            \n",
    "flames(first_name,second_name)"
   ]
  }
 ],
 "metadata": {
  "kernelspec": {
   "display_name": "Python 3.9.10 ('base')",
   "language": "python",
   "name": "python3"
  },
  "language_info": {
   "codemirror_mode": {
    "name": "ipython",
    "version": 3
   },
   "file_extension": ".py",
   "mimetype": "text/x-python",
   "name": "python",
   "nbconvert_exporter": "python",
   "pygments_lexer": "ipython3",
   "version": "3.9.10"
  },
  "orig_nbformat": 4,
  "vscode": {
   "interpreter": {
    "hash": "0e53ef6c850edadf11a8d34c0eb6b3896ebc30c09e2b2fb37777b2d87277b5e3"
   }
  }
 },
 "nbformat": 4,
 "nbformat_minor": 2
}
