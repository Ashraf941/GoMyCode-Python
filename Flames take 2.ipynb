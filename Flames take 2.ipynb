{
 "cells": [
  {
   "cell_type": "code",
   "execution_count": 29,
   "metadata": {},
   "outputs": [
    {
     "name": "stdout",
     "output_type": "stream",
     "text": [
      "Christiano and Georgina are Affectionates\n"
     ]
    }
   ],
   "source": [
    "first_name=input(\"Enter the first name: \")\n",
    "second_name=input(\"Enter the second name: \")\n",
    "\n",
    "def flames(f,s):\n",
    "    name1=f.title()\n",
    "    name2=s.title()\n",
    "    s=s.replace(\" \",\"\")\n",
    "    f=f.replace(\" \",\"\")\n",
    "    s=s.lower()\n",
    "    f=f.lower()\n",
    "    if len(f)>len(s):\n",
    "        for letter in f:\n",
    "            if letter in s:\n",
    "                f=f.replace(letter,\"\",1)\n",
    "                s=s.replace(letter,\"\",1)\n",
    "    else:\n",
    "        for letter in s:\n",
    "            if letter in f:\n",
    "                s=s.replace(letter,\"\",1)\n",
    "                f=f.replace(letter,\"\",1)\n",
    "    length=len(s)+len(f)\n",
    "    if length==0:\n",
    "        print(\"It's the same name\")\n",
    "    else:\n",
    "        l=[\"Friends\",\"Lovers\",\"Affectionates\",\"Married\",\"Enemies\",\"Siblings\"]\n",
    "        right=[]\n",
    "        left=[]\n",
    "        while len(l)>1:\n",
    "            i=(length%len(l))-1\n",
    "            if i+1>0:\n",
    "                right=l[i+1:]\n",
    "                left=l[:i]\n",
    "                l=right+left\n",
    "            else:\n",
    "                left=l[:i]\n",
    "                l=left\n",
    "        status=str(l[0])\n",
    "        print(f\"{name1} and {name2} are {status}\")\n",
    "\n",
    "flames(first_name,second_name)\n",
    "\n",
    "\n"
   ]
  },
  {
   "cell_type": "code",
   "execution_count": 30,
   "metadata": {},
   "outputs": [
    {
     "name": "stdout",
     "output_type": "stream",
     "text": [
      "Christiano and Georgina are Affectionates\n"
     ]
    }
   ],
   "source": [
    "first_name=input(\"Enter the first name: \")\n",
    "second_name=input(\"Enter the second name: \")\n",
    "\n",
    "def flames(f,s):\n",
    "    name1=f.title()\n",
    "    name2=s.title()\n",
    "    s,f=s.replace(\" \",\"\"),f.replace(\" \",\"\")\n",
    "    s,f=s.lower(),f.lower()\n",
    "    if len(f)>len(s):\n",
    "        for letter in f:\n",
    "            if letter in s:\n",
    "                f=f.replace(letter,\"\",1)\n",
    "                s=s.replace(letter,\"\",1)\n",
    "    else:\n",
    "        for letter in s:\n",
    "            if letter in f:\n",
    "                s=s.replace(letter,\"\",1)\n",
    "                f=f.replace(letter,\"\",1)\n",
    "    length=len(s)+len(f)\n",
    "    if length==0:\n",
    "        print(\"It's the same name\")\n",
    "    else:\n",
    "        l=[\"Friends\",\"Lovers\",\"Affectionates\",\"Married\",\"Enemies\",\"Siblings\"]\n",
    "        def recursion(length,l):\n",
    "            if len(l)==1:\n",
    "                 status=str(l[0])\n",
    "                 return status\n",
    "            else:\n",
    "                right=[]\n",
    "                left=[]\n",
    "                i=(length%len(l))-1\n",
    "                if i+1>0:\n",
    "                    right=l[i+1:]\n",
    "                    left=l[:i]\n",
    "                    l=right+left\n",
    "                else:\n",
    "                    left=l[:i]\n",
    "                    l=left\n",
    "                return recursion(length,l)\n",
    "        print(f\"{name1} and {name2} are {recursion(length,l)}\")\n",
    "\n",
    "\n",
    "\n",
    "flames(first_name,second_name)\n",
    "\n",
    "\n"
   ]
  }
 ],
 "metadata": {
  "kernelspec": {
   "display_name": "Python 3.9.10 ('base')",
   "language": "python",
   "name": "python3"
  },
  "language_info": {
   "codemirror_mode": {
    "name": "ipython",
    "version": 3
   },
   "file_extension": ".py",
   "mimetype": "text/x-python",
   "name": "python",
   "nbconvert_exporter": "python",
   "pygments_lexer": "ipython3",
   "version": "3.9.10"
  },
  "orig_nbformat": 4,
  "vscode": {
   "interpreter": {
    "hash": "0e53ef6c850edadf11a8d34c0eb6b3896ebc30c09e2b2fb37777b2d87277b5e3"
   }
  }
 },
 "nbformat": 4,
 "nbformat_minor": 2
}
