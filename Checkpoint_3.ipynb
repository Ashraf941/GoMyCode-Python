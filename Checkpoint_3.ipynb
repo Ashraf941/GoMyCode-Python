{
  "nbformat": 4,
  "nbformat_minor": 0,
  "metadata": {
    "colab": {
      "name": "Checkpoint #3.ipynb",
      "provenance": []
    },
    "kernelspec": {
      "name": "python3",
      "display_name": "Python 3"
    },
    "language_info": {
      "name": "python"
    }
  },
  "cells": [
    {
      "cell_type": "code",
      "execution_count": null,
      "metadata": {
        "colab": {
          "base_uri": "https://localhost:8080/"
        },
        "id": "K-83mavkctoK",
        "outputId": "9f6edba3-a5f2-4bdd-fa53-eab15d2ba033"
      },
      "outputs": [
        {
          "output_type": "stream",
          "name": "stdout",
          "text": [
            "Enter number of elements: 3\n",
            "Enter element #1: 2\n",
            "Enter element #2: 3\n",
            "Enter element #3: 6\n",
            "[2, 3, 6]\n",
            "36\n"
          ]
        }
      ],
      "source": [
        "#Question #1\n",
        "l=[] #Create Empty list\n",
        "n=int(input(\"Enter number of elements: \")) # Input for number of elements\n",
        "for i in range(0,n): #for loop to add elements into list\n",
        "  e=int(input(\"Enter element #\"+str(i+1)+\": \"))\n",
        "  l.append(e)\n",
        "r=1\n",
        "for i in range(0,(len(l))): #for loop to multiply elements by each other\n",
        "  r*=l[i]\n",
        "print(l)\n",
        "print(r)\n"
      ]
    },
    {
      "cell_type": "code",
      "source": [
        "#Question #2\n",
        "l=[] #creating an empty list\n",
        "n=int(input(\"Enter number of tuples in your list: \"))\n",
        "for i in range(0,n): #for loop to enter the values of the tuples\n",
        "  t1=int(input(\"Enter first value of tuple #\"+str(i+1)+\": \"))\n",
        "  t2=int(input(\"Enter second value of tuple #\"+str(i+1)+\": \"))\n",
        "  l.append((t1,t2))\n",
        "print(l) #checking if the inputs are correct\n",
        "def second_value(my_tuple): #defining a function to return the second value of \n",
        "  first,second=my_tuple     #tuple to add to the sort function\n",
        "  return second\n",
        "l.sort(key=second_value)\n",
        "print(l)\n"
      ],
      "metadata": {
        "colab": {
          "base_uri": "https://localhost:8080/"
        },
        "id": "-VBkzwpM41Fk",
        "outputId": "068e069a-f80d-40ed-db17-050944ffc36a"
      },
      "execution_count": 84,
      "outputs": [
        {
          "output_type": "stream",
          "name": "stdout",
          "text": [
            "Enter number of tuples in your list: 5\n",
            "Enter first value of tuple #1: 2\n",
            "Enter second value of tuple #1: 5\n",
            "Enter first value of tuple #2: 1\n",
            "Enter second value of tuple #2: 2\n",
            "Enter first value of tuple #3: 4\n",
            "Enter second value of tuple #3: 4\n",
            "Enter first value of tuple #4: 2\n",
            "Enter second value of tuple #4: 3\n",
            "Enter first value of tuple #5: 2\n",
            "Enter second value of tuple #5: 1\n",
            "[(2, 5), (1, 2), (4, 4), (2, 3), (2, 1)]\n",
            "[(2, 1), (1, 2), (2, 3), (4, 4), (2, 5)]\n"
          ]
        }
      ]
    },
    {
      "cell_type": "code",
      "source": [
        "#Questioin #3\n",
        "d1={} #creating 2 empty dictionaries\n",
        "d2={}\n",
        "\n",
        "n1=int(input(\"Enter number of Keys in dictionary 1\")) #Input of the number of keys in the dictionary\n",
        "for i in range(0,n1):\n",
        "  k1=input(\"Enter key #\"+str(i+1)+\":\")\n",
        "  v1=int(input(\"Enter it's value: \"))\n",
        "  d1[k1]=v1\n",
        "n2=int(input(\"Enter number of Keys in dictionary 2\"))\n",
        "for i in range(0,n2):\n",
        "  k2=input(\"Enter key #\"+str(i+1)+\":\")\n",
        "  v2=int(input(\"Enter it's value: \"))\n",
        "  d2[k2]=v2\n",
        "print(d1) #checking that the inputs are correct\n",
        "print(d2)\n",
        "for k in d2: #creating a for loop with if condition to add the values of the same keys\n",
        "  if k in d1:\n",
        "    d2[k] += d1[k]\n",
        "for k in d1:  #creating a for loop with if condition to add the non existing keys in d2 to add them\n",
        "  if k not in d2:\n",
        "    d2[k]=d1[k]\n",
        "  \n",
        "print(d2)"
      ],
      "metadata": {
        "id": "mAewA23BAyWZ",
        "colab": {
          "base_uri": "https://localhost:8080/"
        },
        "outputId": "3c28c88e-83fc-4205-fa9d-6aa63be03243"
      },
      "execution_count": 35,
      "outputs": [
        {
          "output_type": "stream",
          "name": "stdout",
          "text": [
            "Enter number of Keys in dictionary 13\n",
            "Enter key #1:a\n",
            "Enter it's value: 100\n",
            "Enter key #2:b\n",
            "Enter it's value: 200\n",
            "Enter key #3:c\n",
            "Enter it's value: 300\n",
            "{'a': 100, 'b': 200, 'c': 300}\n",
            "Enter number of Keys in dictionary 23\n",
            "Enter key #1:a\n",
            "Enter it's value: 300\n",
            "Enter key #2:b\n",
            "Enter it's value: 200\n",
            "Enter key #3:d\n",
            "Enter it's value: 400\n",
            "{'a': 300, 'b': 200, 'd': 400}\n",
            "{'a': 400, 'b': 400, 'd': 400, 'c': 300}\n"
          ]
        }
      ]
    },
    {
      "cell_type": "code",
      "source": [
        "#Question #4\n",
        "d={}\n",
        "n=int(input(\"Enter number: \"))\n",
        "for i in range(1,n+1): \n",
        "  d[i]=i**2\n",
        "print(d)"
      ],
      "metadata": {
        "id": "es6pTxmyLfT8",
        "colab": {
          "base_uri": "https://localhost:8080/"
        },
        "outputId": "a896d05e-ca9d-4312-95fc-24c64e73ebb7"
      },
      "execution_count": 37,
      "outputs": [
        {
          "output_type": "stream",
          "name": "stdout",
          "text": [
            "Enter number: 8\n",
            "{1: 1, 2: 4, 3: 9, 4: 16, 5: 25, 6: 36, 7: 49, 8: 64}\n"
          ]
        }
      ]
    },
    {
      "cell_type": "code",
      "source": [
        "#Question #5\n",
        "l=[] # creating empty list\n",
        "n=int(input(\"Enter number of tuples in your list: \"))\n",
        "for i in range(0,n): #for loop to enter the values of the tuples\n",
        "  t1= \"item \"+str(i+1)\n",
        "  t2=input(\"Enter your float: \")\n",
        "  l.append((t1,t2))\n",
        "print(l)\n",
        "def decimal(my_tuple): # creating a function that extracts the number after the decimal point\n",
        "  _,my_decimal=my_tuple\n",
        "  my_decimal_str=my_decimal.split('.')\n",
        "  my_decimal_int=int(my_decimal_str[1])\n",
        "  return my_decimal_int\n",
        "l.sort(key=decimal)\n",
        "print(l)"
      ],
      "metadata": {
        "id": "sMY9agQULh93",
        "colab": {
          "base_uri": "https://localhost:8080/"
        },
        "outputId": "54f9e6d3-071e-4d64-e1d3-bffede03f48b"
      },
      "execution_count": 83,
      "outputs": [
        {
          "output_type": "stream",
          "name": "stdout",
          "text": [
            "Enter number of tuples in your list: 3\n",
            "Enter your float: 12.20\n",
            "Enter your float: 15.10\n",
            "Enter your float: 24.5\n",
            "[('item 1', '12.20'), ('item 2', '15.10'), ('item 3', '24.5')]\n",
            "[('item 3', '24.5'), ('item 2', '15.10'), ('item 1', '12.20')]\n"
          ]
        }
      ]
    }
  ]
}