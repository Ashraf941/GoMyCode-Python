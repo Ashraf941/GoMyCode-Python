{
  "nbformat": 4,
  "nbformat_minor": 0,
  "metadata": {
    "colab": {
      "name": "Checkpoint#4.ipynb",
      "provenance": []
    },
    "kernelspec": {
      "name": "python3",
      "display_name": "Python 3"
    },
    "language_info": {
      "name": "python"
    }
  },
  "cells": [
    {
      "cell_type": "code",
      "execution_count": 1,
      "metadata": {
        "colab": {
          "base_uri": "https://localhost:8080/"
        },
        "id": "idj_hP_oqDWk",
        "outputId": "1fd438ef-3a16-477a-fb36-923fd56f7e99"
      },
      "outputs": [
        {
          "output_type": "stream",
          "name": "stdout",
          "text": [
            "35\n"
          ]
        }
      ],
      "source": [
        "# Question #1\n",
        "\n",
        "def max(my_tuple):\n",
        "  if my_tuple[0] > my_tuple[1] and my_tuple[0] > my_tuple[2]:\n",
        "    print(my_tuple[0])\n",
        "  elif my_tuple[1] > my_tuple[0] and my_tuple[1] > my_tuple[2]:\n",
        "    print(my_tuple[1])\n",
        "  else:\n",
        "    print(my_tuple[2])\n",
        "x=(20,35,19)\n",
        "max(x)"
      ]
    },
    {
      "cell_type": "code",
      "source": [
        "# Question #2\n",
        "\n",
        "def calculation(a,b):\n",
        "  sum=a+b\n",
        "  sub=a-b\n",
        "  return sum,sub\n",
        "calculation(40,10)"
      ],
      "metadata": {
        "colab": {
          "base_uri": "https://localhost:8080/"
        },
        "id": "oKpoVjkTr_gC",
        "outputId": "60ff1ecc-e844-49ef-b4b8-db35f3840301"
      },
      "execution_count": 2,
      "outputs": [
        {
          "output_type": "execute_result",
          "data": {
            "text/plain": [
              "(50, 30)"
            ]
          },
          "metadata": {},
          "execution_count": 2
        }
      ]
    },
    {
      "cell_type": "code",
      "source": [
        "# Question #3\n",
        "\n",
        "def sum(lst):\n",
        "  r=0\n",
        "  for i in lst:\n",
        "    r+=i\n",
        "  return r\n",
        "\n",
        "def mup(lst):\n",
        "  r=1\n",
        "  for i in lst:\n",
        "    r*=i\n",
        "  return r\n",
        "\n",
        "my_list=[1,2,3,4,5,6,7,8,9,10]\n",
        "mup_list=[]\n",
        "sum_list=[]\n",
        "\n",
        "for i in range(len(my_list)):\n",
        "  if i%2==0:\n",
        "    sum_list.append(my_list[i])\n",
        "  else:\n",
        "    mup_list.append(my_list[i])\n",
        "print(sum_list, sum(sum_list))\n",
        "print(mup_list, mup(mup_list))\n",
        "\n",
        "  \n"
      ],
      "metadata": {
        "colab": {
          "base_uri": "https://localhost:8080/"
        },
        "id": "gRB4h2z2sg9Q",
        "outputId": "b87a6437-3602-4ec3-836f-d51e067d6a83"
      },
      "execution_count": 7,
      "outputs": [
        {
          "output_type": "stream",
          "name": "stdout",
          "text": [
            "[1, 3, 5, 7, 9] 25\n",
            "[2, 4, 6, 8, 10] 3840\n"
          ]
        }
      ]
    },
    {
      "cell_type": "code",
      "source": [
        "# Question #4\n",
        "n=int(input(\"Enter number of strings \"))\n",
        "lst=[]\n",
        "for i in range(n):\n",
        "  e=input(\"Enter string #{}: \".format(i+1))\n",
        "  lst.append(e)\n",
        "mystr=\"-\".join(lst)\n",
        "print(mystr)\n",
        "lst.sort()\n",
        "mystrsorted=\"-\".join(lst)\n",
        "print(mystrsorted)"
      ],
      "metadata": {
        "colab": {
          "base_uri": "https://localhost:8080/"
        },
        "id": "LMneNuPvD7jk",
        "outputId": "143b6c59-a8ae-4114-9a18-fe0b20cbb431"
      },
      "execution_count": 35,
      "outputs": [
        {
          "output_type": "stream",
          "name": "stdout",
          "text": [
            "Enter number of strings 5\n",
            "Enter string #1: green\n",
            "Enter string #2: red\n",
            "Enter string #3: yellow\n",
            "Enter string #4: black\n",
            "Enter string #5: white\n",
            "green-red-yellow-black-white\n",
            "black-green-red-white-yellow\n"
          ]
        }
      ]
    },
    {
      "cell_type": "code",
      "source": [
        "# Question #5\n",
        "c=50\n",
        "h=30\n",
        "def q(d):\n",
        "  r=((2*c*d)/h)**0.5\n",
        "  return int(r)\n",
        "lst=[]\n",
        "for i in range(3):\n",
        "  e=int(input(\"Enter value of D{}: \".format(i+1)))\n",
        "  lst.append(e)\n",
        "lst_joined=\",\".join(str(x) for x in lst)\n",
        "print(lst_joined)\n",
        "lst_qvalues=list(map(q,lst))\n",
        "lst_qvaluesj=\",\".join(str(x) for x in lst_qvalues)\n",
        "print(lst_qvaluesj)\n",
        "\n",
        "\n",
        "\n"
      ],
      "metadata": {
        "colab": {
          "base_uri": "https://localhost:8080/"
        },
        "id": "34cILtytHeOe",
        "outputId": "0136128b-3a5c-4c6f-8d49-991e2b64fbb2"
      },
      "execution_count": 19,
      "outputs": [
        {
          "output_type": "stream",
          "name": "stdout",
          "text": [
            "Enter value of D1: 100\n",
            "Enter value of D2: 150\n",
            "Enter value of D3: 180\n",
            "100,150,180\n",
            "18,22,24\n"
          ]
        }
      ]
    }
  ]
}